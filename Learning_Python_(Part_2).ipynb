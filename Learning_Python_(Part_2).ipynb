{
  "nbformat": 4,
  "nbformat_minor": 0,
  "metadata": {
    "colab": {
      "provenance": [],
      "authorship_tag": "ABX9TyMJn3xm6RCkR2m4vJiIacjZ",
      "include_colab_link": true
    },
    "kernelspec": {
      "name": "python3",
      "display_name": "Python 3"
    },
    "language_info": {
      "name": "python"
    }
  },
  "cells": [
    {
      "cell_type": "markdown",
      "metadata": {
        "id": "view-in-github",
        "colab_type": "text"
      },
      "source": [
        "<a href=\"https://colab.research.google.com/github/ryan-saloma/teaching-python/blob/main/Learning_Python_(Part_2).ipynb\" target=\"_parent\"><img src=\"https://colab.research.google.com/assets/colab-badge.svg\" alt=\"Open In Colab\"/></a>"
      ]
    },
    {
      "cell_type": "markdown",
      "source": [
        "Most arithmetic opertors, like those for addition and subtraction, are what you'd except. The ones that may be new to you are the following: modulus (%), exponentiation (**), and floor division (//).\n",
        "\n",
        "The modulus operator returns the _remainder_ of a division operation. For example `5 % 3` with return `2`. Similarly, `25 % 4 == 1`.\n",
        "\n",
        "The exponentiation operator does what you'd except. For example, `2**3 == 8`.\n",
        "\n",
        "The floor division operator essentially performs two operations. First, it divides one integer by another. Then it takes the floor of the result or rounds down to the nearest whole number. For example, `7 // 3` yields an intermediary value of `2.33` and return `2`. This is true if the value is above `.5`. So, for example, `8 // 3` will also return `2`."
      ],
      "metadata": {
        "id": "ELdf1TRlu9eM"
      }
    },
    {
      "cell_type": "code",
      "execution_count": null,
      "metadata": {
        "id": "8MXKa5Xzu6X6"
      },
      "outputs": [],
      "source": [
        "# example of modulus operator\n",
        "print(32 % 6)\n",
        "\n",
        "# example of floor division\n",
        "print(13 // 5)\n"
      ]
    },
    {
      "cell_type": "markdown",
      "source": [
        "The next type of operator are comparison operators. These operators let us compare two values. They determine if these values have a specified type of relationship (less than, greater than, equal, etc.) and return `True` or `False`.\n",
        "\n",
        "For the most part, these should be familiar to you with exception of the equality and inequality operators: `==` and `!=`. These are different than those used in Excel."
      ],
      "metadata": {
        "id": "Gs4raVAMxN-Q"
      }
    },
    {
      "cell_type": "code",
      "source": [],
      "metadata": {
        "id": "BtgXB8bsyCU4"
      },
      "execution_count": null,
      "outputs": []
    }
  ]
}