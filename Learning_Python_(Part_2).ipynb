{
  "nbformat": 4,
  "nbformat_minor": 0,
  "metadata": {
    "colab": {
      "provenance": [],
      "authorship_tag": "ABX9TyO8sdjuAh0D+IykUEJNUEgq",
      "include_colab_link": true
    },
    "kernelspec": {
      "name": "python3",
      "display_name": "Python 3"
    },
    "language_info": {
      "name": "python"
    }
  },
  "cells": [
    {
      "cell_type": "markdown",
      "metadata": {
        "id": "view-in-github",
        "colab_type": "text"
      },
      "source": [
        "<a href=\"https://colab.research.google.com/github/ryan-saloma/teaching-python/blob/main/Learning_Python_(Part_2).ipynb\" target=\"_parent\"><img src=\"https://colab.research.google.com/assets/colab-badge.svg\" alt=\"Open In Colab\"/></a>"
      ]
    },
    {
      "cell_type": "markdown",
      "source": [
        "# Common Operators\n",
        "\n",
        "## Arithmetic Operators\n",
        "Most arithmetic opertors, like those for addition and subtraction, are what you'd except. The ones that may be new to you are the following: modulus (%), exponentiation (**), and floor division (//).\n",
        "\n",
        "The modulus operator returns the _remainder_ of a division operation. For example `5 % 3` with return `2`. Similarly, `25 % 4 == 1`.\n",
        "\n",
        "The exponentiation operator does what you'd except. For example, `2**3 == 8`.\n",
        "\n",
        "The floor division operator essentially performs two operations. First, it divides one integer by another. Then it takes the floor of the result or rounds down to the nearest whole number. For example, `7 // 3` yields an intermediary value of `2.33` and return `2`. This is true if the value is above `.5`. So, for example, `8 // 3` will also return `2`."
      ],
      "metadata": {
        "id": "ELdf1TRlu9eM"
      }
    },
    {
      "cell_type": "code",
      "execution_count": null,
      "metadata": {
        "id": "8MXKa5Xzu6X6"
      },
      "outputs": [],
      "source": [
        "# example of modulus operator\n",
        "print(32 % 6)\n",
        "\n",
        "# example of floor division\n",
        "print(13 // 5)\n"
      ]
    },
    {
      "cell_type": "markdown",
      "source": [
        "## Comparison Operators\n",
        "\n",
        "The next type of operator is the comparison operator. These operators let us compare two values. They determine if these values have a specified type of relationship (less than, greater than, equal, etc.) and return `True` or `False`.\n",
        "\n",
        "For the most part, these should be familiar to you with exception of the equality and inequality operators: `==` and `!=`. These are different than those used in Excel (which are `=` and `<>`, respectively)."
      ],
      "metadata": {
        "id": "Gs4raVAMxN-Q"
      }
    },
    {
      "cell_type": "code",
      "source": [
        "# less than\n",
        "print(3 < 4)\n",
        "\n",
        "# greater than\n",
        "# Python compares strings by lexicographic ordering (how the dictionary is ordered)\n",
        "print('polar bear' > 'panda')\n",
        "\n",
        "# equal\n",
        "print(42 == 42)\n",
        "\n",
        "# not equal\n",
        "print('cheetah' != 'leopard')"
      ],
      "metadata": {
        "id": "BtgXB8bsyCU4"
      },
      "execution_count": null,
      "outputs": []
    },
    {
      "cell_type": "markdown",
      "source": [
        "## Logical Operators\n",
        "\n",
        "The next type is the logical operator. These operators let us combine logical expressions like the comparison operations in the previous section. This group includes `and`, `or`, and `not`.\n",
        "\n",
        "`exp1 and exp2` evaluates to `True` if both `exp1` and `exp2` are `True`. `exp1 or exp2` evaluates to `True` if either `exp1`or `exp2` is `True`. `not exp1` evaluates to `True` if `exp1`is `False`.\n",
        "\n",
        "`not` is often combined with other operators. In particular, it can be used with the `in` operator below to make an expression evaluate to `True` if something is not in a set, e.g. `element not in set` (more on this in a bit)."
      ],
      "metadata": {
        "id": "lX2EfDJQDxUx"
      }
    },
    {
      "cell_type": "code",
      "source": [
        "# and\n",
        "print(2 % 2 == 0 and 4 % 2 == 0)\n",
        "\n",
        "# or\n",
        "print(3 // 2 == 1 or 3 // 2 == 2)\n",
        "\n",
        "# not\n",
        "print(not(False))"
      ],
      "metadata": {
        "id": "m8OHrhmvFk55"
      },
      "execution_count": null,
      "outputs": []
    },
    {
      "cell_type": "markdown",
      "source": [
        "## Membership Operators\n",
        "\n",
        "The final type of operator that I'll mention here is the membership operator `in`. As mentioned above, we use `in` to determine if an element belongs to a set. Typically, the set will be a list of elements. For example, `2 in [1, 2, 3]` would evaluate to `True`. We can combine `not` with `in` to test for exclusion."
      ],
      "metadata": {
        "id": "Ls92LHVmGCW-"
      }
    },
    {
      "cell_type": "code",
      "source": [
        "# inclusion\n",
        "random = [True, 'snake', 3]\n",
        "print('snake' in random)\n",
        "\n",
        "# exclusion\n",
        "arctic_animals = ['polar bear', 'penguin', 'seal']\n",
        "print('capybara' not in arctic_animals)"
      ],
      "metadata": {
        "id": "DYe4TZhnGuJa"
      },
      "execution_count": null,
      "outputs": []
    }
  ]
}