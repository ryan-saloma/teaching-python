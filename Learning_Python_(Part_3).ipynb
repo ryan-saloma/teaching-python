{
  "nbformat": 4,
  "nbformat_minor": 0,
  "metadata": {
    "colab": {
      "provenance": [],
      "authorship_tag": "ABX9TyMLHqVxXxLaiqfwSLL+ZTfv",
      "include_colab_link": true
    },
    "kernelspec": {
      "name": "python3",
      "display_name": "Python 3"
    },
    "language_info": {
      "name": "python"
    }
  },
  "cells": [
    {
      "cell_type": "markdown",
      "metadata": {
        "id": "view-in-github",
        "colab_type": "text"
      },
      "source": [
        "<a href=\"https://colab.research.google.com/github/ryan-saloma/teaching-python/blob/main/Learning_Python_(Part_3).ipynb\" target=\"_parent\"><img src=\"https://colab.research.google.com/assets/colab-badge.svg\" alt=\"Open In Colab\"/></a>"
      ]
    },
    {
      "cell_type": "markdown",
      "source": [
        "# Functions"
      ],
      "metadata": {
        "id": "szUfN3nTzq_Z"
      }
    },
    {
      "cell_type": "code",
      "execution_count": null,
      "metadata": {
        "id": "mqpJ1oLKzk4X"
      },
      "outputs": [],
      "source": [
        "import math\n",
        "\n",
        "def add(num1, num2) :\n",
        "  return num1+num2\n",
        "\n",
        "print(add(1, 2))\n",
        "\n",
        "print(math.pi, math.e)"
      ]
    }
  ]
}