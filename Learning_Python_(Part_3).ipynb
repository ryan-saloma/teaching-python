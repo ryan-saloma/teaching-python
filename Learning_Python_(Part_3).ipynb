{
  "nbformat": 4,
  "nbformat_minor": 0,
  "metadata": {
    "colab": {
      "provenance": [],
      "authorship_tag": "ABX9TyNKODpZ/5iele6qZJQ0/L4x",
      "include_colab_link": true
    },
    "kernelspec": {
      "name": "python3",
      "display_name": "Python 3"
    },
    "language_info": {
      "name": "python"
    }
  },
  "cells": [
    {
      "cell_type": "markdown",
      "metadata": {
        "id": "view-in-github",
        "colab_type": "text"
      },
      "source": [
        "<a href=\"https://colab.research.google.com/github/ryan-saloma/teaching-python/blob/main/Learning_Python_(Part_3).ipynb\" target=\"_parent\"><img src=\"https://colab.research.google.com/assets/colab-badge.svg\" alt=\"Open In Colab\"/></a>"
      ]
    },
    {
      "cell_type": "markdown",
      "source": [
        "# Functions"
      ],
      "metadata": {
        "id": "szUfN3nTzq_Z"
      }
    },
    {
      "cell_type": "markdown",
      "source": [
        "## The Definition of a Function\n",
        "A **function** is a block of code that performs a specific task. Functions are related to the principle of [**modular programming**](https://daily.dev/blog/what-is-modular-programming#:~:text=Modular%20programming%20organizes%20code%20into,of%20code%2C%20and%20efficient%20teamwork.), which is a technique that simplifies software development. Essentially, it stresses the importance of breaking code into smaller pieces.\n",
        "\n",
        "A function in Python works similarly to a function in math. It can take some value X and map that value to another value Y. Inputs to Python functions are called **parameters** or **arguments**. The difference between the two terms is beyond the scope of this lesson.\n",
        "\n",
        "Python functions are more general than mathematical functions because they don't require input. To illustrate, imagine you want to print \"Hello\" to the console. From our previous lessons, you know you can use `print(\"Hello\")`. However, if you knew you were going to print \"Hello\" specifically many times, you could define a new function `print_hello()` that takes no arguments and prints \"Hello\" (see below for the implementation of this admittedly silly function)."
      ],
      "metadata": {
        "id": "9d1FQLW0OtAh"
      }
    },
    {
      "cell_type": "code",
      "source": [
        "def print_hello():\n",
        "  print(\"Hello\")\n",
        "\n",
        "printHello()\n",
        "printHello()\n",
        "printHello()"
      ],
      "metadata": {
        "id": "yC_yc44uRAYq"
      },
      "execution_count": null,
      "outputs": []
    },
    {
      "cell_type": "markdown",
      "source": [
        "## Function Syntax\n",
        "\n",
        "Now that you know what a function is. How do we build one? Well, let's start by looking at the simple function defined above.\n",
        "\n",
        "The **first thing** to notice is the use of `def`. `def` is called a **keyword**. In the context of a programming language, a keyword is a word that has a predefined meaning. As a consequence, a keyword cannot be used to define a variable. In this case, `def` means we are defining a function, hence the name.\n",
        "\n",
        "The **second thing** to notice is that `def` is followed by a function name. There are a few hard rules for naming functions as well as a few guidelines.\n",
        "\n",
        "One, functions must start with an underscore character `_` or a letter. They cannot start with numbers. Two, user-defined functions cannot share a name with a keyword (you can't define a function named `def` or `str`, for example).\n",
        "\n",
        "Those are the rules, but there are also guidelines that are mostly related to style. Many people use [Google's style guidelines](https://google.github.io/styleguide/pyguide.html#316-naming). They name functions using the syntax `function_name_etc`, where each word is separated by an underscore and everything is lowercase.\n",
        "\n",
        "The **third thing** to notice is the colon. The colon signals to programs and programmers the start of the function body.\n",
        "\n",
        "The **fourth thing** is the indentation, which signals that the indented line belongs to the function body. The first line after a function is NOT indented.\n",
        "\n",
        "Finally, functions can **return** values. The values can be characters, booleans, strings, numbers, matrices, and even other functions. The function below demonstrates how to return values from functions."
      ],
      "metadata": {
        "id": "lOKf3Pe9RXsB"
      }
    },
    {
      "cell_type": "code",
      "execution_count": null,
      "metadata": {
        "id": "mqpJ1oLKzk4X"
      },
      "outputs": [],
      "source": [
        "import math\n",
        "import random\n",
        "\n",
        "# return the sum of two numbers\n",
        "def add(num1, num2) :\n",
        "  return num1+num2\n",
        "\n",
        "# returns two numbers\n",
        "# uses Google style for function naming\n",
        "# more on the use of square brackets soon\n",
        "def generate_two_random_integers():\n",
        "  num1 = random.randint(1, 100)\n",
        "  num2 = random.randint(1, 100)\n",
        "  return [num1, num2]\n",
        "\n",
        "\n",
        "print(add(1, 2))\n",
        "\n",
        "[int1, int2] = generate_two_random_integers()\n",
        "print(add(int1, int2))\n"
      ]
    }
  ]
}