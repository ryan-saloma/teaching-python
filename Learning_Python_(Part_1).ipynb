{
  "nbformat": 4,
  "nbformat_minor": 0,
  "metadata": {
    "colab": {
      "provenance": [],
      "authorship_tag": "ABX9TyP2TkHMmhxtf5cMIJKVxPR0",
      "include_colab_link": true
    },
    "kernelspec": {
      "name": "python3",
      "display_name": "Python 3"
    },
    "language_info": {
      "name": "python"
    }
  },
  "cells": [
    {
      "cell_type": "markdown",
      "metadata": {
        "id": "view-in-github",
        "colab_type": "text"
      },
      "source": [
        "<a href=\"https://colab.research.google.com/github/ryan-saloma/teaching-python/blob/main/Learning_Python_(Part_1).ipynb\" target=\"_parent\"><img src=\"https://colab.research.google.com/assets/colab-badge.svg\" alt=\"Open In Colab\"/></a>"
      ]
    },
    {
      "cell_type": "markdown",
      "source": [
        "This exercise comes from Practice Python. It introduces the concepts of IO."
      ],
      "metadata": {
        "id": "7QBUoofGl-Z5"
      }
    },
    {
      "cell_type": "code",
      "execution_count": null,
      "metadata": {
        "cellView": "form",
        "id": "Ay6uxECdiTST"
      },
      "outputs": [],
      "source": [
        "# @title\n",
        "\n",
        "name = input('Enter your name: ')\n",
        "age = int(input('Enter your age: '))\n",
        "currentYear = 2024\n",
        "year100 = 2124 - age\n",
        "print(f'Hello, {name}. You will turn 100 in the year {year100}.')\n",
        "\n",
        "# alternatively\n",
        "print('Hello, ' + name + 'You will turn 100 in the year ' + year100 + '.')\n"
      ]
    },
    {
      "cell_type": "markdown",
      "source": [
        "The next exercise discusses: modular arithmetic (the modulus operator, conditionals (if statements), and equality."
      ],
      "metadata": {
        "id": "aKU4N-yRmwvD"
      }
    }
  ]
}