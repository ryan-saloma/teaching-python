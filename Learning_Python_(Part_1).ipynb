{
  "nbformat": 4,
  "nbformat_minor": 0,
  "metadata": {
    "colab": {
      "provenance": [],
      "include_colab_link": true
    },
    "kernelspec": {
      "name": "python3",
      "display_name": "Python 3"
    },
    "language_info": {
      "name": "python"
    }
  },
  "cells": [
    {
      "cell_type": "markdown",
      "metadata": {
        "id": "view-in-github",
        "colab_type": "text"
      },
      "source": [
        "<a href=\"https://colab.research.google.com/github/ryan-saloma/teaching-python/blob/main/Learning_Python_(Part_1).ipynb\" target=\"_parent\"><img src=\"https://colab.research.google.com/assets/colab-badge.svg\" alt=\"Open In Colab\"/></a>"
      ]
    },
    {
      "cell_type": "markdown",
      "source": [
        "# Session #1: Data Types, Input and Output"
      ],
      "metadata": {
        "id": "KKcxmwRoIIhU"
      }
    },
    {
      "cell_type": "markdown",
      "source": [
        "## Definition of and Motivation for Data Types\n",
        "\n",
        "[Data types](https://en.wikipedia.org/wiki/Data_type) are foundational to any programming language. Roughly, each data type represents a set of values and the operations that can be performed on that set. For example, a common data type is the **integer data type**. A programming language might specify that the set of numbers -128 to 127 belong to this type, and that a member of this set can undergo addition, subtraction, multiplication, and division.\n",
        "\n",
        "Sometimes, it is necessary to explicitly signal to the computer what type a piece of data is. This is not necessarily the case with Python. To a certain extent, Python can infer the type of data from its value (e.g. the integer `5`) and the operations you perform with it (e.g. addition). This feature of Python can make it easy to use, but it has its disadvantages.\n",
        "\n",
        "One, without explicitly defining the type of a piece of data, you might forget what operations you can perform on that data. Two, if you perform an illegal operation, you might not know until your program is running, or your program might fail silently. Three, it is possible to use data types that use more memory than necessary. For example, suppose a programming language defined two types of integer `SmallInteger` and `BigInteger`. `SmallInteger` might represent the integers -128 to +127, while `BigInteger` might represent the integers -32768 to +32767. A piece of data might be stored as a `BigInteger` when a `SmallInteger` might do, thus taking up more memory.\n",
        "\n",
        "Fortunately, we can tell Python the data type of a piece of data is when necessary. Python has several built-in data types, but we'll focus on a select few for now: `int`, `float`, `str`, and `bool`.\n",
        "\n",
        "`bool` is the simplest. It is a boolean and can only represent `True` or `False`.\n",
        "\n",
        "`int` and `float` are numeric data types. `int`, standing for integer, by default represents the integers -2147483648 through 2147483647 but can represent an arbitrarily big number (limited by a computer's memory). `float` represents decimal numbers.\n",
        "\n",
        "The `str` (or string) data type represents a series of characters.\n",
        "\n",
        "Besides these built-in types, as we'll see later, add-ons to Python can define other data types."
      ],
      "metadata": {
        "id": "nUQo89hBIDuH"
      }
    },
    {
      "cell_type": "markdown",
      "source": [
        "## Input and Output Operations\n",
        "\n",
        "Conventionally, people learning a programming language first learn how to save values, input them from the command line, and output them to the console. The [console](https://en.wikipedia.org/wiki/Console_application) is a text-based interface that allows you to interact with the computer's operating system or run code. It is one of many places to which you can output data.\n",
        "\n",
        "To save values to variables in Python, we use the assignment operator `=`. For example, `num = 42` saves the number `42` to the variable `num`.\n",
        "\n",
        "The simplest way to input data in Python is to use the function `input`. We can pass an argument to `input` (more on arguments later) that displays a prompt. For example, `input('Enter a number: `) will output `Enter a number` and wait for the user to enter some input.\n",
        "\n",
        "To output something to the command line, we use `print`. For example, `print('Hello, world!')` will print `Hello, world!` to the console."
      ],
      "metadata": {
        "id": "54Xt4xUhRolQ"
      }
    },
    {
      "cell_type": "markdown",
      "source": [
        "## Example #1"
      ],
      "metadata": {
        "id": "vOu5QAoUT-8D"
      }
    },
    {
      "cell_type": "code",
      "source": [
        "# get number and save it to the variable num\n",
        "num = input('Enter a number')\n",
        "\n",
        "# print the number\n",
        "print(num)"
      ],
      "metadata": {
        "id": "QOpwcv-pUCUc"
      },
      "execution_count": null,
      "outputs": []
    },
    {
      "cell_type": "markdown",
      "source": [
        "## Exercise #1\n",
        "[This exercise](https://www.practicepython.org/exercise/2014/01/29/01-character-input.html) comes from Practice Python. It introduces the concepts of data types and console IO."
      ],
      "metadata": {
        "id": "7QBUoofGl-Z5"
      }
    },
    {
      "cell_type": "code",
      "execution_count": null,
      "metadata": {
        "id": "Ay6uxECdiTST"
      },
      "outputs": [],
      "source": [
        "# @title\n",
        "\n",
        "# without type annotations\n",
        "name = input('Enter your name: ')\n",
        "age = int(input('Enter your age: '))\n",
        "currentYear = 2024\n",
        "year100 = currentYear + 100 - age\n",
        "\n",
        "# with type annotations\n",
        "name:str = input('Enter your name: ')\n",
        "age = int(input('Enter your age: '))\n",
        "currentYear:int = 2024\n",
        "year100:int = currentYear + 100 - age\n",
        "\n",
        "# one way to print\n",
        "# string formatting\n",
        "print(f'Hello, {name}. You will turn 100 in the year {year100}.')\n",
        "\n",
        "# alternatively\n",
        "# string concatenation\n",
        "print('Hello, ' + str(name) + '. You will turn 100 in the year ' + str(year100) + '.')"
      ]
    },
    {
      "cell_type": "markdown",
      "source": [
        "## Exercise #2\n",
        "\n",
        "Enter a number with at least three decimal places and print it with two. It introduces floating-point numbers and continues our discussion on string formatting."
      ],
      "metadata": {
        "id": "tTUjLuLrQDCC"
      }
    },
    {
      "cell_type": "code",
      "source": [
        "num = float(input('Enter a floating point number: '))\n",
        "print(f'Here\\'s your floating point number: {num:.2f}')\n",
        "print('Here\\'s your floating point number again: {:.2f}'.format(num))\n"
      ],
      "metadata": {
        "id": "mlbIoOpDQGGX"
      },
      "execution_count": null,
      "outputs": []
    },
    {
      "cell_type": "markdown",
      "source": [
        "## File Input and Output\n",
        "\n",
        "Two common operations in any programming language are reading from and writing to files. These operations also fall under IO. [This article](https://realpython.com/read-write-files-python/#what-is-a-file) covers the basics of file structure, which will help us understand what Python is doing.\n",
        "\n",
        "For this exercise, you'll follow along as we read from and write to files of two different files. The first is a text (txt) file, and the second is a comma-separated values (csv) file. There is a lot of flexibility when reading and writing files. We'll keep it simple for now and return to this topic once we've covered more of the basics.\n",
        "\n",
        "There are some things not specific to files that are worth noticing. First is the use of **methods**. Methods are essentially functions, but they are more restrictive because they only work with certain classes. [**Classes**](https://en.wikipedia.org/wiki/Class_(computer_programming)) are conceptually similar to classes in biology and other sciences. They define a shared set of attributes and behaviors. Those behaviors we call methods.\n",
        "\n",
        "If that doesn't make sense at the moment, it will later. The important thing to understand is that there are different classes associated with files and these classes have their own methods. In the future, you'll need to be careful not to call a method that belongs to a different class than the class you're working with.\n",
        "\n",
        "For more information on these operations, see the [Python manual](https://docs.python.org/3/tutorial/inputoutput.html#reading-and-writing-files)."
      ],
      "metadata": {
        "id": "oGybPigVkiI3"
      }
    },
    {
      "cell_type": "code",
      "source": [
        "# reading a text file\n",
        "\n",
        "# approach #1\n",
        "# notice the following:\n",
        "# 1) we have to tell the computer where to look for the file\n",
        "# 2) we have to tell the computer how to interpret the data in file (i.e. its encoding)\n",
        "f = open('sample_data/fileIO_example.txt', encoding=\"utf-8\");\n",
        "print(f.read());\n",
        "f.close();\n",
        "\n",
        "# approach #2: using with\n",
        "with open('sample_data/fileIO_example.txt', encoding=\"utf-8\") as f:\n",
        "    read_data = f.read();\n",
        "    print(read_data);\n",
        "\n",
        "# with should close the file when we exit its block\n",
        "# check that file was closed\n",
        "f.closed;\n",
        "\n",
        "# writing to a text file\n",
        "\n",
        "# notice the character \\n. this is called an escape character.\n",
        "# \\n creates a new line.\n",
        "# notice also the mode argument. this tells the computer we're writing to the file.\n",
        "f = open('sample_data/fileIO_example.txt', encoding=\"utf-8\", mode='w')\n",
        "f.write('This\\nis\\nadded\\ncontent\\n');\n",
        "f.close();\n",
        "\n",
        "# check that it worked\n",
        "# oh no, it wrote over the old text. how do we prevent that? more on that later.\n",
        "f = open('sample_data/fileIO_example.txt', encoding=\"utf-8\", mode='r')\n",
        "print(f.read());\n",
        "f.close();"
      ],
      "metadata": {
        "id": "Z-VBpoaZpM0X"
      },
      "execution_count": null,
      "outputs": []
    },
    {
      "cell_type": "markdown",
      "source": [
        "Next, we'll cover comparison and arithmetic operators."
      ],
      "metadata": {
        "id": "aKU4N-yRmwvD"
      }
    }
  ]
}