{
  "nbformat": 4,
  "nbformat_minor": 0,
  "metadata": {
    "colab": {
      "provenance": [],
      "authorship_tag": "ABX9TyMl38RnyOUMbvJCKJ/J9HYL",
      "include_colab_link": true
    },
    "kernelspec": {
      "name": "python3",
      "display_name": "Python 3"
    },
    "language_info": {
      "name": "python"
    }
  },
  "cells": [
    {
      "cell_type": "markdown",
      "metadata": {
        "id": "view-in-github",
        "colab_type": "text"
      },
      "source": [
        "<a href=\"https://colab.research.google.com/github/ryan-saloma/teaching-python/blob/main/Learning_Python_(Part_1).ipynb\" target=\"_parent\"><img src=\"https://colab.research.google.com/assets/colab-badge.svg\" alt=\"Open In Colab\"/></a>"
      ]
    },
    {
      "cell_type": "markdown",
      "source": [
        "# Session #1: Data Types, Input and Output\n",
        "\n",
        "## Exercise #1\n",
        "[This exercise](https://www.practicepython.org/exercise/2014/01/29/01-character-input.html) comes from Practice Python. It introduces the concepts of data types and console IO."
      ],
      "metadata": {
        "id": "7QBUoofGl-Z5"
      }
    },
    {
      "cell_type": "code",
      "execution_count": null,
      "metadata": {
        "id": "Ay6uxECdiTST"
      },
      "outputs": [],
      "source": [
        "# @title\n",
        "\n",
        "# without type annotations\n",
        "name = input('Enter your name: ')\n",
        "age = int(input('Enter your age: '))\n",
        "currentYear = 2024\n",
        "year100 = currentYear + 100 - age\n",
        "\n",
        "# with type annotations\n",
        "name:str = input('Enter your name: ')\n",
        "age = int(input('Enter your age: '))\n",
        "currentYear:int = 2024\n",
        "year100:int = currentYear + 100 - age\n",
        "\n",
        "# one way to print\n",
        "# string formatting\n",
        "print(f'Hello, {name}. You will turn 100 in the year {year100}.')\n",
        "\n",
        "# alternatively\n",
        "# string concatenation\n",
        "print('Hello, ' + str(name) + '. You will turn 100 in the year ' + str(year100) + '.')"
      ]
    },
    {
      "cell_type": "markdown",
      "source": [
        "## Exerise #2\n",
        "\n",
        "Enter a number with at least three decimal places and print it with two. It introduces floating-point numbers and continues our discussion on string formatting."
      ],
      "metadata": {
        "id": "tTUjLuLrQDCC"
      }
    },
    {
      "cell_type": "code",
      "source": [
        "num = float(input('Enter a floating point number: '))\n",
        "print(f'Here\\'s your floating point number: {num:.2f}')\n",
        "print('Here\\'s your floating point number again: {:.2f}'.format(num))\n"
      ],
      "metadata": {
        "id": "mlbIoOpDQGGX"
      },
      "execution_count": null,
      "outputs": []
    },
    {
      "cell_type": "markdown",
      "source": [
        "## Exercise #3\n",
        "\n",
        "Two common operations in any programming language are reading from and writing to files. These operations also fall under IO. [This article](https://realpython.com/read-write-files-python/#what-is-a-file) covers the basics of file structure, which will help us understand what Python is doing.\n",
        "\n",
        "For this exercise, you'll follow along as we read from and write to files of two different files. The first is a text (txt) file, and the second is a comma-separated values (csv) file. There is a lot of flexibility when reading and writing files. We'll keep it simple for now and return to this topic once we've covered more of the basics.\n",
        "\n",
        "There are some things not specific to files that are worth noticing. First is the use of **methods**. Methods are essentially functions, but they are more restrictive because they only work with certain classes. [**Classes**](https://en.wikipedia.org/wiki/Class_(computer_programming)) are conceptually similar to classes in biology and other sciences. They define a shared set of attributes and behaviors. Those behaviors we call methods.\n",
        "\n",
        "If that doesn't make sense at the moment, it will later. The important thing to understand is that there are different classes associated with files and these classes have their own methods. In the future, you'll need to be careful not to call a method that belongs to a different class than the class you're working with.\n",
        "\n",
        "For more information on these operations, see the [Python manual](https://docs.python.org/3/tutorial/inputoutput.html#reading-and-writing-files)."
      ],
      "metadata": {
        "id": "oGybPigVkiI3"
      }
    },
    {
      "cell_type": "code",
      "source": [
        "# reading a text file\n",
        "\n",
        "# approach #1\n",
        "# notice the following:\n",
        "# 1) we have to tell the computer where to look for the file\n",
        "# 2) we have to tell the computer how to interpret the data in file (i.e. its encoding)\n",
        "f = open('sample_data/fileIO_example.txt', encoding=\"utf-8\");\n",
        "print(f.read());\n",
        "f.close();\n",
        "\n",
        "# approach #2: using with\n",
        "with open('sample_data/fileIO_example.txt', encoding=\"utf-8\") as f:\n",
        "    read_data = f.read();\n",
        "    print(read_data);\n",
        "\n",
        "# with should close the file when we exit its block\n",
        "# check that file was closed\n",
        "f.closed;\n",
        "\n",
        "# writing to a text file\n",
        "\n",
        "# notice the character \\n. this is called an escape character.\n",
        "# \\n creates a new line.\n",
        "# notice also the mode argument. this tells the computer we're writing to the file.\n",
        "f = open('sample_data/fileIO_example.txt', encoding=\"utf-8\", mode='w')\n",
        "f.write('This\\nis\\nadded\\ncontent\\n');\n",
        "f.close();\n",
        "\n",
        "# check that it worked\n",
        "# oh no, it wrote over the old text. how do we prevent that? more on that later.\n",
        "f = open('sample_data/fileIO_example.txt', encoding=\"utf-8\", mode='r')\n",
        "print(f.read());\n",
        "f.close();"
      ],
      "metadata": {
        "id": "Z-VBpoaZpM0X",
        "outputId": "8a8c5985-2bbd-48c5-ca5e-420fd8278cc3",
        "colab": {
          "base_uri": "https://localhost:8080/"
        }
      },
      "execution_count": 14,
      "outputs": [
        {
          "output_type": "stream",
          "name": "stdout",
          "text": [
            "This\n",
            " is\n",
            " added\n",
            " content\n",
            "\n",
            "This\n",
            " is\n",
            " added\n",
            " content\n",
            "\n",
            "This\n",
            "is\n",
            "added\n",
            "content\n",
            "\n"
          ]
        }
      ]
    },
    {
      "cell_type": "markdown",
      "source": [
        "Next, we'll cover comparison and arithmetic operators."
      ],
      "metadata": {
        "id": "aKU4N-yRmwvD"
      }
    }
  ]
}