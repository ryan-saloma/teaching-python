{
  "nbformat": 4,
  "nbformat_minor": 0,
  "metadata": {
    "colab": {
      "provenance": [],
      "authorship_tag": "ABX9TyMpDSJqRsRKYVSsBUM4Ux/i",
      "include_colab_link": true
    },
    "kernelspec": {
      "name": "python3",
      "display_name": "Python 3"
    },
    "language_info": {
      "name": "python"
    }
  },
  "cells": [
    {
      "cell_type": "markdown",
      "metadata": {
        "id": "view-in-github",
        "colab_type": "text"
      },
      "source": [
        "<a href=\"https://colab.research.google.com/github/ryan-saloma/teaching-python/blob/main/Learning_Python_(Part_1).ipynb\" target=\"_parent\"><img src=\"https://colab.research.google.com/assets/colab-badge.svg\" alt=\"Open In Colab\"/></a>"
      ]
    },
    {
      "cell_type": "markdown",
      "source": [
        "[This exercise](https://www.practicepython.org/exercise/2014/01/29/01-character-input.html) comes from Practice Python. It introduces the concepts of data types and IO."
      ],
      "metadata": {
        "id": "7QBUoofGl-Z5"
      }
    },
    {
      "cell_type": "code",
      "execution_count": null,
      "metadata": {
        "id": "Ay6uxECdiTST"
      },
      "outputs": [],
      "source": [
        "# @title\n",
        "\n",
        "# without type annotations\n",
        "name = input('Enter your name: ')\n",
        "age = int(input('Enter your age: '))\n",
        "currentYear = 2024\n",
        "year100 = currentYear + 100 - age\n",
        "\n",
        "# with type annotations\n",
        "name:str = input('Enter your name: ')\n",
        "age = int(input('Enter your age: '))\n",
        "currentYear:int = 2024\n",
        "year100:int = currentYear + 100 - age\n",
        "\n",
        "# one way to print\n",
        "# string formatting\n",
        "print(f'Hello, {name}. You will turn 100 in the year {year100}.')\n",
        "\n",
        "# alternatively\n",
        "# string concatenation\n",
        "print('Hello, ' + str(name) + '. You will turn 100 in the year ' + str(year100) + '.')"
      ]
    },
    {
      "cell_type": "markdown",
      "source": [
        "## Exerise #2\n",
        "\n",
        "Enter a number with at least three decimal places and print it with two."
      ],
      "metadata": {
        "id": "tTUjLuLrQDCC"
      }
    },
    {
      "cell_type": "code",
      "source": [
        "num = float(input('Enter a floating point number: '))\n",
        "print(f'Here\\'s your floating point number: {num:.2f}')\n",
        "print('Here\\'s your floating point number again: {:.2f}'.format(num))\n"
      ],
      "metadata": {
        "id": "mlbIoOpDQGGX"
      },
      "execution_count": null,
      "outputs": []
    },
    {
      "cell_type": "markdown",
      "source": [
        "Next, we'll cover comparison and arithmetic operators."
      ],
      "metadata": {
        "id": "aKU4N-yRmwvD"
      }
    }
  ]
}