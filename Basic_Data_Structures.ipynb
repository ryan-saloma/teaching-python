{
  "nbformat": 4,
  "nbformat_minor": 0,
  "metadata": {
    "colab": {
      "provenance": [],
      "authorship_tag": "ABX9TyPCchzGYciaerIlCzMIGBzM",
      "include_colab_link": true
    },
    "kernelspec": {
      "name": "python3",
      "display_name": "Python 3"
    },
    "language_info": {
      "name": "python"
    }
  },
  "cells": [
    {
      "cell_type": "markdown",
      "metadata": {
        "id": "view-in-github",
        "colab_type": "text"
      },
      "source": [
        "<a href=\"https://colab.research.google.com/github/ryan-saloma/teaching-python/blob/main/Basic_Data_Structures.ipynb\" target=\"_parent\"><img src=\"https://colab.research.google.com/assets/colab-badge.svg\" alt=\"Open In Colab\"/></a>"
      ]
    },
    {
      "cell_type": "markdown",
      "source": [
        "# Basic Data Structures\n",
        "\n",
        "## Introduction\n",
        "Now that we have a basic understanding of data types, we can discuss how to structure data. Data structures are fundamental to computer science and software design. According to [Wikipedia](https://en.wikipedia.org/wiki/Data_structure), a data structure is \"a collection of data values, the relationships among them, and the functions or operations that can be applied to the data\".\n",
        "\n",
        "There are [a lot of data structures](https://en.wikipedia.org/wiki/List_of_data_structures), but most programmers only need to know a handful. The ones we will discuss here are the List, Tuple, Dictionary, and Set. In the next lesson, we will talk about Panda's DataFrames and Series as well as NumPy's Arraay.\n",
        "\n",
        "## Lists\n",
        "\n"
      ],
      "metadata": {
        "id": "4rr1deTXY9NW"
      }
    },
    {
      "cell_type": "code",
      "execution_count": null,
      "metadata": {
        "id": "QaANo9uKYxSm"
      },
      "outputs": [],
      "source": []
    }
  ]
}