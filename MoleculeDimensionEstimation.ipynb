{
  "nbformat": 4,
  "nbformat_minor": 0,
  "metadata": {
    "colab": {
      "provenance": [],
      "authorship_tag": "ABX9TyNZayQMSfpq4iGzge8El4D5",
      "include_colab_link": true
    },
    "kernelspec": {
      "name": "python3",
      "display_name": "Python 3"
    },
    "language_info": {
      "name": "python"
    }
  },
  "cells": [
    {
      "cell_type": "markdown",
      "metadata": {
        "id": "view-in-github",
        "colab_type": "text"
      },
      "source": [
        "<a href=\"https://colab.research.google.com/github/ryan-saloma/teaching-python/blob/main/MoleculeDimensionEstimation.ipynb\" target=\"_parent\"><img src=\"https://colab.research.google.com/assets/colab-badge.svg\" alt=\"Open In Colab\"/></a>"
      ]
    },
    {
      "cell_type": "code",
      "execution_count": null,
      "metadata": {
        "id": "Gkflc7W7gtWV"
      },
      "outputs": [],
      "source": [
        "!pip install rdkit-pypi &> /dev/null\n",
        "\n",
        "# Make necessary imports\n",
        "import rdkit\n",
        "from rdkit import Chem\n",
        "from rdkit.Chem import AllChem\n",
        "import numpy as np\n",
        "import re\n",
        "\n",
        "# Estimate the dimensions of a molecule from its SMILES string\n",
        "def estimateDimensionsOfMolecule(smilesString):\n",
        "\n",
        "  # Check that input is a string\n",
        "  if not isinstance(smilesString, str):\n",
        "        raise TypeError(\"estimateDimensionsOfMolecule expects a string.\")\n",
        "\n",
        "  # Check that string doesn't contain hydrogen\n",
        "  if 'H' in smilesString:\n",
        "    raise TypeError(\"\\nestimateDimensionsOfMolecule expects a string without hydrogen atoms\")\n",
        "\n",
        "  # Remove any trailing and tailing spaces or double quotes\n",
        "  smilesString = re.sub(r'[\\\" ]', '', smilesString)\n",
        "\n",
        "  # Method for creating RDKit molecule object from SMILES str\n",
        "  molecule = Chem.MolFromSmiles(smilesString)\n",
        "\n",
        "  # Generate a 3D conformer\n",
        "  AllChem.EmbedMolecule(molecule, randomSeed=42)\n",
        "  AllChem.UFFOptimizeMolecule(molecule)\n",
        "\n",
        "  # Get the 3D coordinates of each atom in the molecule\n",
        "  conf = molecule.GetConformer()\n",
        "\n",
        "  # Extract the coordinates as a numpy array\n",
        "  coordinates = np.array([\n",
        "      list(conf.GetAtomPosition(i)) for i in range(conf.GetNumAtoms())\n",
        "  ])\n",
        "\n",
        "  # Calculate the bounding box dimensions\n",
        "  min_coords = np.min(coordinates, axis=0)\n",
        "  max_coords = np.max(coordinates, axis=0)\n",
        "  dimensions = max_coords - min_coords\n",
        "\n",
        "  return(dimensions)\n",
        "\n",
        "# Get SMILES string\n",
        "smiles = \"OCC1OC(O)C(O)C(O)C1O\" # glucose\n",
        "smiles = input(\"Enter a SMILES string:\")\n",
        "\n",
        "# Estimate dimensions of molecule\n",
        "try:\n",
        "  length, width, height = estimateDimensionsOfMolecule(smiles)\n",
        "\n",
        "  # Print estimated values\n",
        "  print(\"\\nEstimated dimensions of the molecule (in Angstroms)\")\n",
        "  print(f\"Length: {length:.2f}\")\n",
        "  print(f\"Width: {width:.2f}\")\n",
        "  print(f\"Height: {height:.2f}\")\n",
        "\n",
        "except TypeError as e:\n",
        "  print(\"An error occurred:\", e)\n",
        "\n",
        "\n",
        "\n"
      ]
    }
  ]
}