{
  "nbformat": 4,
  "nbformat_minor": 0,
  "metadata": {
    "colab": {
      "provenance": [],
      "authorship_tag": "ABX9TyN8oqgJgtCnTF2Joc7PFHco",
      "include_colab_link": true
    },
    "kernelspec": {
      "name": "python3",
      "display_name": "Python 3"
    },
    "language_info": {
      "name": "python"
    }
  },
  "cells": [
    {
      "cell_type": "markdown",
      "metadata": {
        "id": "view-in-github",
        "colab_type": "text"
      },
      "source": [
        "<a href=\"https://colab.research.google.com/github/ryan-saloma/teaching-python/blob/main/Project_1_(Taylor_Swift_Dataset).ipynb\" target=\"_parent\"><img src=\"https://colab.research.google.com/assets/colab-badge.svg\" alt=\"Open In Colab\"/></a>"
      ]
    },
    {
      "cell_type": "markdown",
      "source": [
        "## Load Libraries and Data"
      ],
      "metadata": {
        "id": "Q0iOaQ_FUI5D"
      }
    },
    {
      "cell_type": "code",
      "execution_count": 1,
      "metadata": {
        "id": "5Rl4zvQQTHva"
      },
      "outputs": [],
      "source": [
        "import pandas as pd\n",
        "\n",
        "data = pd.read_csv('taylor_swift_spotify.csv')"
      ]
    },
    {
      "cell_type": "code",
      "source": [
        "# Explore the data\n",
        "\n",
        "# Look at the first few rows\n",
        "data.head()\n",
        "\n",
        "# Look at the column names, number of rows, and data types\n",
        "# Check for missing values\n",
        "# data.info()\n",
        "\n",
        "# Generate basic summary stats\n",
        "# data.describe()\n",
        "\n",
        "# Check for duplicates\n",
        "# data['name'].value_counts()\n",
        "\n",
        "# Attempt to separate originals from later releases\n",
        "mask = data['album'].str.contains('Version', case=False, na=False) | \\\n",
        "       data['album'].str.contains('Edition', case=False, na=False) | \\\n",
        "       data['album'].str.contains('Live', case=False, na=False) | \\\n",
        "       data['album'].str.contains('Tour', case=False, na=False) | \\\n",
        "       data['album'].eq('THE TORTURED POETS DEPARTMENT')\n",
        "versions_df = data[mask]\n",
        "originals_df = data[~mask]\n",
        "\n",
        "# Inspect album names\n",
        "originals_df['album'].unique()\n"
      ],
      "metadata": {
        "colab": {
          "base_uri": "https://localhost:8080/"
        },
        "id": "ZIFn8ANvUHYa",
        "outputId": "28fe4541-6727-4a37-a379-9359cf88c9a2"
      },
      "execution_count": 42,
      "outputs": [
        {
          "output_type": "execute_result",
          "data": {
            "text/plain": [
              "array(['THE TORTURED POETS DEPARTMENT: THE ANTHOLOGY', 'Midnights',\n",
              "       'evermore', 'folklore', 'Lover', 'reputation', '1989', 'Red',\n",
              "       'Speak Now', 'Fearless', 'Taylor Swift'], dtype=object)"
            ]
          },
          "metadata": {},
          "execution_count": 42
        }
      ]
    }
  ]
}