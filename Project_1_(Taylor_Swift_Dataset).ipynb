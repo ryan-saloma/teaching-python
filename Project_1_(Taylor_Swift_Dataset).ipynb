{
  "nbformat": 4,
  "nbformat_minor": 0,
  "metadata": {
    "colab": {
      "provenance": [],
      "authorship_tag": "ABX9TyPLRTThxzfmwbHBd8y70Pw2",
      "include_colab_link": true
    },
    "kernelspec": {
      "name": "python3",
      "display_name": "Python 3"
    },
    "language_info": {
      "name": "python"
    }
  },
  "cells": [
    {
      "cell_type": "markdown",
      "metadata": {
        "id": "view-in-github",
        "colab_type": "text"
      },
      "source": [
        "<a href=\"https://colab.research.google.com/github/ryan-saloma/teaching-python/blob/main/Project_1_(Taylor_Swift_Dataset).ipynb\" target=\"_parent\"><img src=\"https://colab.research.google.com/assets/colab-badge.svg\" alt=\"Open In Colab\"/></a>"
      ]
    },
    {
      "cell_type": "markdown",
      "source": [
        "## Load Libraries and Data"
      ],
      "metadata": {
        "id": "Q0iOaQ_FUI5D"
      }
    },
    {
      "cell_type": "code",
      "execution_count": 1,
      "metadata": {
        "id": "5Rl4zvQQTHva"
      },
      "outputs": [],
      "source": [
        "import pandas as pd\n",
        "\n",
        "data = pd.read_csv('taylor_swift_spotify.csv')"
      ]
    },
    {
      "cell_type": "code",
      "source": [
        "# Explore the data\n",
        "\n",
        "# Look at the first few rows\n",
        "data.head()\n",
        "\n",
        "# Look at the column names, number of rows, and data types\n",
        "# Check for missing values\n",
        "data.info()\n",
        "\n",
        "# Generate basic summary stats\n",
        "# data.describe()\n",
        "\n",
        "# Check for duplicates\n",
        "# data['name'].value_counts()\n",
        "\n",
        "# Attempt to separate originals from later releases\n",
        "mask = data['album'].str.contains('Version', case=False, na=False) | \\\n",
        "       data['album'].str.contains('Edition', case=False, na=False) | \\\n",
        "       data['album'].str.contains('Live', case=False, na=False) | \\\n",
        "       data['album'].str.contains('Tour', case=False, na=False) | \\\n",
        "       data['album'].eq('THE TORTURED POETS DEPARTMENT')\n",
        "versions_df = data[mask]\n",
        "originals_df = data[~mask]\n",
        "\n",
        "# Inspect album names\n",
        "originals_df['album'].unique()\n",
        "\n",
        "# Might be better to filter and keep first release\n",
        "# Requires that we type cast the release_date column\n",
        "data['release_date'][1] # Look how release_date is formatted\n",
        "data['release_date'] = pd.to_datetime(data['release_date'])\n",
        "\n",
        "# Get indices of earliest release dates\n",
        "data.groupby('name')['release_date'].set\n",
        "\n"
      ],
      "metadata": {
        "colab": {
          "base_uri": "https://localhost:8080/"
        },
        "id": "ZIFn8ANvUHYa",
        "outputId": "d68592a1-8d59-4033-a6a7-68cfc679aede"
      },
      "execution_count": 46,
      "outputs": [
        {
          "output_type": "stream",
          "name": "stdout",
          "text": [
            "<class 'pandas.core.frame.DataFrame'>\n",
            "RangeIndex: 577 entries, 0 to 576\n",
            "Data columns (total 18 columns):\n",
            " #   Column            Non-Null Count  Dtype         \n",
            "---  ------            --------------  -----         \n",
            " 0   Unnamed: 0        577 non-null    int64         \n",
            " 1   name              577 non-null    object        \n",
            " 2   album             577 non-null    object        \n",
            " 3   release_date      577 non-null    datetime64[ns]\n",
            " 4   track_number      577 non-null    int64         \n",
            " 5   id                577 non-null    object        \n",
            " 6   uri               577 non-null    object        \n",
            " 7   acousticness      577 non-null    float64       \n",
            " 8   danceability      577 non-null    float64       \n",
            " 9   energy            577 non-null    float64       \n",
            " 10  instrumentalness  577 non-null    float64       \n",
            " 11  liveness          577 non-null    float64       \n",
            " 12  loudness          577 non-null    float64       \n",
            " 13  speechiness       577 non-null    float64       \n",
            " 14  tempo             577 non-null    float64       \n",
            " 15  valence           577 non-null    float64       \n",
            " 16  popularity        577 non-null    int64         \n",
            " 17  duration_ms       577 non-null    int64         \n",
            "dtypes: datetime64[ns](1), float64(9), int64(4), object(4)\n",
            "memory usage: 81.3+ KB\n"
          ]
        },
        {
          "output_type": "execute_result",
          "data": {
            "text/plain": [
              "name\n",
              "\"Slut!\" (Taylor's Version) (From The Vault)         2023-10-27\n",
              "...Ready For It?                                    2017-11-10\n",
              "22                                                  2017-11-09\n",
              "22 (Taylor's Version)                               2021-11-12\n",
              "A Perfectly Good Heart                              2006-10-24\n",
              "                                                       ...    \n",
              "this is me trying                                   2020-11-25\n",
              "this is me trying - the long pond studio sessions   2020-11-25\n",
              "tolerate it                                         2021-01-07\n",
              "willow                                              2021-01-07\n",
              "‘tis the damn season                                2021-01-07\n",
              "Name: release_date, Length: 360, dtype: datetime64[ns]"
            ]
          },
          "metadata": {},
          "execution_count": 46
        }
      ]
    }
  ]
}