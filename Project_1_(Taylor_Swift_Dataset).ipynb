{
  "nbformat": 4,
  "nbformat_minor": 0,
  "metadata": {
    "colab": {
      "provenance": [],
      "authorship_tag": "ABX9TyPvRkIOt2Ewi0vDiNArHNGj",
      "include_colab_link": true
    },
    "kernelspec": {
      "name": "python3",
      "display_name": "Python 3"
    },
    "language_info": {
      "name": "python"
    }
  },
  "cells": [
    {
      "cell_type": "markdown",
      "metadata": {
        "id": "view-in-github",
        "colab_type": "text"
      },
      "source": [
        "<a href=\"https://colab.research.google.com/github/ryan-saloma/teaching-python/blob/main/Project_1_(Taylor_Swift_Dataset).ipynb\" target=\"_parent\"><img src=\"https://colab.research.google.com/assets/colab-badge.svg\" alt=\"Open In Colab\"/></a>"
      ]
    },
    {
      "cell_type": "markdown",
      "source": [
        "## Load Libraries and Data"
      ],
      "metadata": {
        "id": "Q0iOaQ_FUI5D"
      }
    },
    {
      "cell_type": "code",
      "execution_count": 104,
      "metadata": {
        "id": "5Rl4zvQQTHva"
      },
      "outputs": [],
      "source": [
        "import pandas as pd\n",
        "import re\n",
        "import numpy as np\n",
        "import matplotlib.pyplot as plt\n",
        "\n",
        "data = pd.read_csv('taylor_swift_spotify.csv')"
      ]
    },
    {
      "cell_type": "code",
      "source": [
        "# Explore the data\n",
        "\n",
        "# Look at the first few rows\n",
        "data.head()\n",
        "\n",
        "# Look at the column names, number of rows, and data types\n",
        "# Check for missing values\n",
        "data.info()\n",
        "\n",
        "# Generate basic summary stats\n",
        "data.describe()\n",
        "\n",
        "# Check for duplicates\n",
        "data['name'].value_counts()\n",
        "\n",
        "# Attempt to first releases\n",
        "mask = data['album'].str.contains('Version', case=False, na=False) | \\\n",
        "       data['album'].str.contains('Edition', case=False, na=False) | \\\n",
        "       data['album'].str.contains('Live', case=False, na=False) | \\\n",
        "       data['album'].str.contains('Tour', case=False, na=False) | \\\n",
        "       data['album'].str.contains('Anthology', case=False, na=False)\n",
        "versions_df = data[mask]\n",
        "originals_df = data[~mask]\n",
        "\n",
        "# Inspect album names\n",
        "originals_df['album'].unique()\n",
        "versions_df['album'].unique()\n",
        "\n",
        "# Might be better to filter and keep first release\n",
        "# Requires that we type cast the release_date column\n",
        "data['release_date'][1] # Look how release_date is formatted\n",
        "data['release_date'] = pd.to_datetime(data['release_date'])\n",
        "\n",
        "# Need to parantheses/brackets from song names\n",
        "# We want to do this to every name, so a function seems appropriate\n",
        "def clean_song_name(text):\n",
        "    # Use regex to find the first occurrence of\n",
        "    # '(' or '[' and remove everything after it\n",
        "    return re.split(r'[\\(\\[]', text)[0].strip()\n",
        "data['name'] = data['name'].apply(clean_song_name)\n",
        "\n",
        "# Inspect the results\n",
        "# Looks like we need to remove everything after an em-dash\n",
        "data['name'].unique()\n",
        "def clean_song_name_2(text):\n",
        "    # Use regex to find the first occurrence of\n",
        "    # '(' or '[' and remove everything after it\n",
        "    return re.split(r'[\\(\\[\\--\\-]', text)[0].strip()\n",
        "data['name'] = data['name'].apply(clean_song_name_2)\n",
        "data['album'] = data['album'].apply(clean_song_name_2)\n",
        "\n",
        "# Inspect results of running clean_song_name_2\n",
        "# Looks like it worked\n",
        "data['name'].unique()\n",
        "\n",
        "# Now, filter to keep only the firsts release of a song\n",
        "idx = data.groupby('name')['release_date'].idxmin() # return index (idx) with minimum value (min)\n",
        "idx # inspect idx\n",
        "type(idx) # check type of idx\n",
        "earliest_releases = data.loc[idx].reset_index(drop=True)\n",
        "earliest_releases.info()\n"
      ],
      "metadata": {
        "id": "ZIFn8ANvUHYa"
      },
      "execution_count": 62,
      "outputs": []
    },
    {
      "cell_type": "code",
      "source": [
        "# Summarize the data\n",
        "earliest_releases_clean =  earliest_releases.iloc[:, 1:] \\\n",
        ".drop(['track_number'], axis=1)\n",
        "earliest_releases_clean.describe()\n",
        "\n",
        "# What if we want to remove some columns that aren't useful (like track_number)\n",
        "# The output of describe is a DataFrame, so we can select columns\n",
        "summary_earliest_releases = earliest_releases \\\n",
        ".describe(include=[np.number])\n",
        "\n",
        "# Okay, we got some results, so let's save them to a csv file\n",
        "summary_earliest_releases.to_csv('earliest_releases_summary.csv', index=False)\n",
        "\n",
        "# Okay, but what if we want to summarize by album\n",
        "earliest_releases_clean.groupby('album').describe() \\\n",
        ".to_csv('summary_by_album.csv', index=True)\n",
        "\n",
        "# Looks like there's some variability\n",
        "# On average, what's the lowest energy album? What about highest?\n",
        "# Notice, we select the column before taking the mean\n",
        "energies = earliest_releases_clean.groupby('album')['energy'].mean()\n",
        "print(f\"min energy : {energies.idxmin()} \\nmax energy : {energies.idxmax()}\")\n",
        "energies = energies[~energies.index.str.contains('tour', case=False)]\n",
        "print(f\"min energy : {energies.idxmin()}, {round(energies.min(), 2)}\\\n",
        " \\nmax energy : {energies.idxmax()}, {round(energies.max(), 2)}\")\n",
        "\n",
        "# Is the median any different?\n",
        "energies_median = earliest_releases_clean.groupby('album')['energy'].median()\n",
        "print(f\"min energy : {energies_median.idxmin()} \\nmax energy : {energies_median.idxmax()}\")\n",
        "energies_median = energies_median[~energies_median.index.str.contains('tour', case=False)]\n",
        "print(f\"min energy : {energies_median.idxmin()}, {round(energies_median.min(), 2)}\\\n",
        " \\nmax energy : {energies_median.idxmax()}, {round(energies_median.max(), 2)}\")\n",
        "\n",
        "# Looks like the album Taylor Swift has an outlier\n",
        "# Can we test if the energy of folklore is significantly different from the\n",
        "# energy of 1989?\n",
        "tracks_1989 = earliest_releases_clean[earliest_releases_clean['album'] == '1989']\n",
        "tracks_folklore = earliest_releases_clean[earliest_releases_clean['album'] == 'folklore']\n",
        "\n",
        "# What is our sample size?\n",
        "tracks_1989.count()\n",
        "tracks_folklore.count()\n",
        "\n",
        "# Is the data approximately normally distributed?\n",
        "tracks_1989['energy'].plot(kind=\"hist\", bins=15, title=\"Energy of 1989 Songs\")\n",
        "tracks_folklore['energy'].plot(kind=\"hist\", bins=15, title=\"Energy of Folklore Songs\")\n",
        "\n",
        "# The folklore songs look slightly skewed to the left\n",
        "# Can we test normality numerically vs. visually?\n"
      ],
      "metadata": {
        "colab": {
          "base_uri": "https://localhost:8080/",
          "height": 470
        },
        "id": "BJfoB_OS5GKZ",
        "outputId": "f91edccb-1763-4703-c277-e5cd3d265522"
      },
      "execution_count": 108,
      "outputs": [
        {
          "output_type": "execute_result",
          "data": {
            "text/plain": [
              "<Axes: title={'center': 'Energy of Folklore Songs'}, ylabel='Frequency'>"
            ]
          },
          "metadata": {},
          "execution_count": 108
        },
        {
          "output_type": "display_data",
          "data": {
            "text/plain": [
              "<Figure size 640x480 with 1 Axes>"
            ],
            "image/png": "[encoded data removed]"
          },
          "metadata": {}
        }
      ]
    }
  ]
}