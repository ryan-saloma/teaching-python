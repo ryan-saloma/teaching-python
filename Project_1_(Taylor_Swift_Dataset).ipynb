{
  "nbformat": 4,
  "nbformat_minor": 0,
  "metadata": {
    "colab": {
      "provenance": [],
      "authorship_tag": "ABX9TyP9rMK/fOShCRsBz+N56T1s",
      "include_colab_link": true
    },
    "kernelspec": {
      "name": "python3",
      "display_name": "Python 3"
    },
    "language_info": {
      "name": "python"
    }
  },
  "cells": [
    {
      "cell_type": "markdown",
      "metadata": {
        "id": "view-in-github",
        "colab_type": "text"
      },
      "source": [
        "<a href=\"https://colab.research.google.com/github/ryan-saloma/teaching-python/blob/main/Project_1_(Taylor_Swift_Dataset).ipynb\" target=\"_parent\"><img src=\"https://colab.research.google.com/assets/colab-badge.svg\" alt=\"Open In Colab\"/></a>"
      ]
    },
    {
      "cell_type": "markdown",
      "source": [
        "## Load Libraries and Data"
      ],
      "metadata": {
        "id": "Q0iOaQ_FUI5D"
      }
    },
    {
      "cell_type": "code",
      "execution_count": 1,
      "metadata": {
        "id": "5Rl4zvQQTHva"
      },
      "outputs": [],
      "source": [
        "import pandas as pd\n",
        "\n",
        "data = pd.read_csv('taylor_swift_spotify.csv')"
      ]
    },
    {
      "cell_type": "code",
      "source": [
        "# Explore the data\n",
        "\n",
        "# Look at the first few rows\n",
        "data.head()\n",
        "\n",
        "# Look at the column names, number of rows, and data types\n",
        "# Check for missing values\n",
        "# data.info()\n",
        "\n",
        "# Generate basic summary stats\n",
        "# data.describe()\n",
        "\n",
        "# Check for duplicates\n",
        "data['name'].value_counts()\n",
        "\n"
      ],
      "metadata": {
        "colab": {
          "base_uri": "https://localhost:8080/"
        },
        "id": "ZIFn8ANvUHYa",
        "outputId": "0bc02cbe-b769-4d2d-9877-2f89839dd7c1"
      },
      "execution_count": 7,
      "outputs": [
        {
          "output_type": "execute_result",
          "data": {
            "text/plain": [
              "name\n",
              "illicit affairs                         3\n",
              "22                                      3\n",
              "epiphany                                3\n",
              "betty                                   3\n",
              "peace                                   3\n",
              "                                       ..\n",
              "I Forgot That You Existed               1\n",
              "Cruel Summer                            1\n",
              "Lover                                   1\n",
              "The Man                                 1\n",
              "Teardrops on My Guitar - Pop Version    1\n",
              "Name: count, Length: 360, dtype: int64"
            ]
          },
          "metadata": {},
          "execution_count": 7
        }
      ]
    }
  ]
}